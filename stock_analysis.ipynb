{
 "cells": [
  {
   "cell_type": "markdown",
   "metadata": {},
   "source": [
    "To estimate stock prices, we'll use the package yfinance.\n",
    "Google colab doesn't have yfinance installed, let's install the package and import it.\n",
    "\n",
    "Note: A lot of stuff will be printed out, just make sure it says \"Successfully installed\"\n",
    "at the bottom."
   ]
  },
  {
   "cell_type": "code",
   "execution_count": 1,
   "metadata": {},
   "outputs": [
    {
     "name": "stdout",
     "output_type": "stream",
     "text": [
      "Defaulting to user installation because normal site-packages is not writeable\n",
      "Collecting yfinance\n",
      "  Downloading yfinance-0.1.67-py2.py3-none-any.whl (25 kB)\n",
      "Collecting lxml>=4.5.1\n",
      "  Using cached lxml-4.6.4-cp36-cp36m-manylinux_2_17_x86_64.manylinux2014_x86_64.manylinux_2_24_x86_64.whl (6.3 MB)\n",
      "Requirement already satisfied: numpy>=1.15 in /home/pauline/.local/lib/python3.6/site-packages (from yfinance) (1.19.5)\n",
      "Requirement already satisfied: pandas>=0.24 in /home/pauline/.local/lib/python3.6/site-packages (from yfinance) (1.1.5)\n",
      "Requirement already satisfied: requests>=2.20 in /home/pauline/.local/lib/python3.6/site-packages (from yfinance) (2.24.0)\n",
      "Collecting multitasking>=0.0.7\n",
      "  Downloading multitasking-0.0.10.tar.gz (8.2 kB)\n",
      "  Preparing metadata (setup.py) ... \u001b[?25ldone\n",
      "\u001b[?25hRequirement already satisfied: python-dateutil>=2.7.3 in /home/pauline/.local/lib/python3.6/site-packages (from pandas>=0.24->yfinance) (2.8.2)\n",
      "Requirement already satisfied: pytz>=2017.2 in /home/pauline/.local/lib/python3.6/site-packages (from pandas>=0.24->yfinance) (2021.3)\n",
      "Requirement already satisfied: urllib3!=1.25.0,!=1.25.1,<1.26,>=1.21.1 in /home/pauline/.local/lib/python3.6/site-packages (from requests>=2.20->yfinance) (1.25.10)\n",
      "Requirement already satisfied: chardet<4,>=3.0.2 in /home/pauline/.local/lib/python3.6/site-packages (from requests>=2.20->yfinance) (3.0.4)\n",
      "Requirement already satisfied: idna<3,>=2.5 in /home/pauline/.local/lib/python3.6/site-packages (from requests>=2.20->yfinance) (2.10)\n",
      "Requirement already satisfied: certifi>=2017.4.17 in /home/pauline/.local/lib/python3.6/site-packages (from requests>=2.20->yfinance) (2020.12.5)\n",
      "Requirement already satisfied: six>=1.5 in /home/pauline/.local/lib/python3.6/site-packages (from python-dateutil>=2.7.3->pandas>=0.24->yfinance) (1.16.0)\n",
      "Building wheels for collected packages: multitasking\n",
      "  Building wheel for multitasking (setup.py) ... \u001b[?25ldone\n",
      "\u001b[?25h  Created wheel for multitasking: filename=multitasking-0.0.10-py3-none-any.whl size=6796 sha256=a3646d4b315f372f42b092487b1ec1c17865b3a6ffefdf1defe5a503c47ae6cf\n",
      "  Stored in directory: /home/pauline/.cache/pip/wheels/15/e6/fa/f4bf8d84e804547b3c1b1d4b09a671768502b32ca33ec60651\n",
      "Successfully built multitasking\n",
      "Installing collected packages: multitasking, lxml, yfinance\n",
      "\u001b[33m  WARNING: The script sample is installed in '/home/pauline/.local/bin' which is not on PATH.\n",
      "  Consider adding this directory to PATH or, if you prefer to suppress this warning, use --no-warn-script-location.\n",
      "  NOTE: The current PATH contains path(s) starting with `~`, which may not be expanded by all applications.\u001b[0m\n",
      "Successfully installed lxml-4.6.4 multitasking-0.0.10 yfinance-0.1.67\n"
     ]
    }
   ],
   "source": [
    "!pip install yfinance \n",
    "import yfinance"
   ]
  },
  {
   "cell_type": "markdown",
   "metadata": {},
   "source": [
    "This is the list of stocks that Bing Lee owns.\n",
    "It is stored in a dictionary, as indicated by the {}\n",
    "It lists the stock and how many shares"
   ]
  },
  {
   "cell_type": "code",
   "execution_count": 3,
   "metadata": {},
   "outputs": [],
   "source": [
    "stocks = { \"AMZN\": 100,  # 100 shares of Amazon stock\n",
    "           \"NFLX\": 300, # 300 shares of Netflix stock\n",
    "           \"GOOG\": 500, # 500 shares of Google stock\n",
    "           \"GME\": 100}  # 100 shares of Gamestop stack"
   ]
  },
  {
   "cell_type": "markdown",
   "metadata": {},
   "source": [
    "Go through each stock, looking up its market price.\n",
    "Multiply the markte price by the number of shares above.\n",
    "Add it to the total_worth"
   ]
  },
  {
   "cell_type": "code",
   "execution_count": null,
   "metadata": {},
   "outputs": [],
   "source": [
    "total_worth = 0\n",
    "\n",
    "# the for loop goes through all of the stock\n",
    "for stock_symbol, number_of_shares in stocks.items():\n",
    "   stock = yfinance.Ticker (stock_symbol)  # pass in stock_symbol and get stock info\n",
    "   stock_current_value = stock.info[\"regularMarketPrice\"]  # get current value of stack\n",
    "   print (stock_symbol + \"'s price today is $\" + str(stock_current_value))\n",
    "   # stock value in this portfolio is current value * number of shars\n",
    "   stock_value = stock_current_value * number_of_shares\n",
    "\n",
    "   # add this stock_value to total_worth\n",
    "   total_worth = total_worth + stock_value"
   ]
  },
  {
   "cell_type": "markdown",
   "metadata": {},
   "source": [
    "Finished looping through all the stocks, so\n",
    "print out total worth"
   ]
  },
  {
   "cell_type": "code",
   "execution_count": 4,
   "metadata": {},
   "outputs": [
    {
     "name": "stdout",
     "output_type": "stream",
     "text": [
      "AMZN's price today is $3572.57\n",
      "AAPL's price today is $161.02\n",
      "NFLX's price today is $659.2\n",
      "GOOG's price today is $2941.57\n",
      "GME's price today is $247.55\n",
      "Current portfolio is worth: \n",
      "$2090812.0\n"
     ]
    }
   ],
   "source": [
    "print (\"Current portfolio is worth: \")\n",
    "\n",
    "# round total_worth to 2 decimal places, so see cents.\n",
    "print (\"$\" + str (round (total_worth,2)))"
   ]
  },
  {
   "cell_type": "code",
   "execution_count": null,
   "metadata": {},
   "outputs": [],
   "source": []
  }
 ],
 "metadata": {
  "kernelspec": {
   "display_name": "Python 3",
   "language": "python",
   "name": "python3"
  },
  "language_info": {
   "codemirror_mode": {
    "name": "ipython",
    "version": 3
   },
   "file_extension": ".py",
   "mimetype": "text/x-python",
   "name": "python",
   "nbconvert_exporter": "python",
   "pygments_lexer": "ipython3",
   "version": "3.6.9"
  }
 },
 "nbformat": 4,
 "nbformat_minor": 4
}
