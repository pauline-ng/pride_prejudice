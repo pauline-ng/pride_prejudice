{
 "cells": [
  {
   "cell_type": "markdown",
   "metadata": {},
   "source": [
    "To estimate stock prices, we'll use the package yfinance.\n",
    "Google colab doesn't have yfinance installed, let's install the package and import it.\n"
   ]
  },
  {
   "cell_type": "code",
   "execution_count": 1,
   "metadata": {},
   "outputs": [],
   "source": [
    "!pip install -q yfinance \n",
    "import yfinance"
   ]
  },
  {
   "cell_type": "markdown",
   "metadata": {},
   "source": [
    "This is the list of stocks that Bing Lee owns.\n",
    "It is stored in a dictionary, as indicated by the {}\n",
    "It lists the stock and how many shares"
   ]
  },
  {
   "cell_type": "code",
   "execution_count": 2,
   "metadata": {},
   "outputs": [],
   "source": [
    "stocks = { \"AMZN\": 100,  # 100 shares of Amazon stock\n",
    "           \"NFLX\": 300, # 300 shares of Netflix stock\n",
    "           \"GOOG\": 500, # 500 shares of Google stock\n",
    "           \"GME\": 100}  # 100 shares of Gamestop stack"
   ]
  },
  {
   "cell_type": "markdown",
   "metadata": {},
   "source": [
    "Go through each stock, looking up its market price.\n",
    "Multiply the markte price by the number of shares above.\n",
    "Add it to the total_worth"
   ]
  },
  {
   "cell_type": "code",
   "execution_count": 3,
   "metadata": {},
   "outputs": [
    {
     "name": "stdout",
     "output_type": "stream",
     "text": [
      "AMZN's price today is $3572.57\n",
      "NFLX's price today is $659.2\n",
      "GOOG's price today is $2941.57\n",
      "GME's price today is $247.55\n"
     ]
    }
   ],
   "source": [
    "total_worth = 0\n",
    "\n",
    "# the for loop goes through all of the stock\n",
    "for stock_symbol, number_of_shares in stocks.items():\n",
    "   stock = yfinance.Ticker (stock_symbol)  # pass in stock_symbol and get stock info\n",
    "   stock_current_value = stock.info[\"regularMarketPrice\"]  # get current value of stack\n",
    "   print (stock_symbol + \"'s price today is $\" + str(stock_current_value))\n",
    "   # stock value in this portfolio is current value * number of shars\n",
    "   stock_value = stock_current_value * number_of_shares\n",
    "\n",
    "   # add this stock_value to total_worth\n",
    "   total_worth = total_worth + stock_value"
   ]
  },
  {
   "cell_type": "markdown",
   "metadata": {},
   "source": [
    "Finished looping through all the stocks, so\n",
    "print out total worth"
   ]
  },
  {
   "cell_type": "code",
   "execution_count": 4,
   "metadata": {},
   "outputs": [
    {
     "name": "stdout",
     "output_type": "stream",
     "text": [
      "Current portfolio is worth: \n",
      "$2050557.0\n"
     ]
    }
   ],
   "source": [
    "print (\"Current portfolio is worth: \")\n",
    "\n",
    "# round total_worth to 2 decimal places, so see cents.\n",
    "print (\"$\" + str (round (total_worth,2)))"
   ]
  }
 ],
 "metadata": {
  "kernelspec": {
   "display_name": "Python 3",
   "language": "python",
   "name": "python3"
  },
  "language_info": {
   "codemirror_mode": {
    "name": "ipython",
    "version": 3
   },
   "file_extension": ".py",
   "mimetype": "text/x-python",
   "name": "python",
   "nbconvert_exporter": "python",
   "pygments_lexer": "ipython3",
   "version": "3.6.9"
  }
 },
 "nbformat": 4,
 "nbformat_minor": 4
}
